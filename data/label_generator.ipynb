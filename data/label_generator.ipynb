{
 "cells": [
  {
   "cell_type": "code",
   "execution_count": 16,
   "metadata": {},
   "outputs": [],
   "source": [
    "import pandas as pd\n",
    "import numpy as np\n",
    "\n",
    "n_bins = 4\n",
    "eps = 1e-6\n",
    "label_col = \"survival_months\"\n",
    "\n",
    "TARGET = \"ucec\"\n",
    "TARGET_FILE = f\"tcga_{TARGET}_all.csv\"\n",
    "\n",
    "df = pd.read_csv(TARGET_FILE)\n",
    "df.case_id = df.case_id.map(lambda x: x[:12])\n",
    "df.slide_id = df.slide_id.map(lambda x: x.split(\".\")[0] + \".\" + x.split(\".\")[2])\n",
    "\n",
    "patients_df = df.drop_duplicates(['case_id']).copy()\n",
    "uncensored_df = patients_df[patients_df['censorship'] < 1]\n",
    "\n",
    "disc_labels, q_bins = pd.qcut(uncensored_df[label_col], q=n_bins, retbins=True, labels=False)\n",
    "q_bins[-1] = df[label_col].max() + eps\n",
    "q_bins[0] = df[label_col].min() - eps\n",
    "\n",
    "disc_labels, q_bins = pd.cut(patients_df[label_col], bins=q_bins, retbins=True, labels=False, right=False, include_lowest=True)\n",
    "\n",
    "patients_df.loc[:, \"label\"] = disc_labels.values.astype(int)\n",
    "patients_df.to_csv(TARGET_FILE, index=False)"
   ]
  },
  {
   "cell_type": "code",
   "execution_count": null,
   "metadata": {},
   "outputs": [],
   "source": []
  }
 ],
 "metadata": {
  "kernelspec": {
   "display_name": "pytorch",
   "language": "python",
   "name": "python3"
  },
  "language_info": {
   "codemirror_mode": {
    "name": "ipython",
    "version": 3
   },
   "file_extension": ".py",
   "mimetype": "text/x-python",
   "name": "python",
   "nbconvert_exporter": "python",
   "pygments_lexer": "ipython3",
   "version": "3.9.19"
  }
 },
 "nbformat": 4,
 "nbformat_minor": 2
}
